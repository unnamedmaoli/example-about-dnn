{
 "cells": [
  {
   "cell_type": "code",
   "execution_count": 39,
   "metadata": {},
   "outputs": [
    {
     "name": "stdout",
     "output_type": "stream",
     "text": [
      "WARNING:tensorflow:From c:\\python38\\lib\\site-packages\\tensorflow\\python\\compat\\v2_compat.py:96: disable_resource_variables (from tensorflow.python.ops.variable_scope) is deprecated and will be removed in a future version.\n",
      "Instructions for updating:\n",
      "non-resource variables are not supported in the long term\n",
      "['batches.meta', 'data_batch_1', 'data_batch_2', 'data_batch_3', 'data_batch_4', 'data_batch_5', 'readme.html', 'test_batch']\n"
     ]
    }
   ],
   "source": [
    "import tensorflow as tf\n",
    "#import tensorflow.compat.v1 as tf\n",
    "import os\n",
    "import _pickle as cPickle\n",
    "import numpy as np\n",
    "#tf.compat.v1.disable_eager_execution()\n",
    "import tensorflow.compat.v1 as tf \n",
    "tf.disable_v2_behavior() \n",
    "dir=\"./cifar-10-batches-py/\"\n",
    "print (os.listdir(dir))"
   ]
  },
  {
   "cell_type": "code",
   "execution_count": 52,
   "metadata": {},
   "outputs": [
    {
     "name": "stdout",
     "output_type": "stream",
     "text": [
      "(1979, 3072)\n",
      "(1979,)\n",
      "(3970, 3072)\n",
      "(3970,)\n",
      "(6006, 3072)\n",
      "(6006,)\n",
      "(7972, 3072)\n",
      "(7972,)\n",
      "(10000, 3072)\n",
      "(10000,)\n",
      "(2000, 3072)\n",
      "(2000,)\n"
     ]
    }
   ],
   "source": [
    "def load_data(filename):\n",
    "    '''read data from datafile'''\n",
    "    with open(filename,'rb') as f:\n",
    "        data=cPickle.load(f,encoding='bytes')\n",
    "        return data[b'data'],data[b'labels']\n",
    "class CifarData:\n",
    "    def __init__(self,filenames,need_shuffle):\n",
    "        all_data=[]\n",
    "        all_labels=[]\n",
    "        for filename in filenames:\n",
    "            data,labels=load_data(filename)\n",
    "            for item,label in zip(data,labels):\n",
    "                if label in [0,1]:\n",
    "                    all_data.append(item)\n",
    "                    all_labels.append(label)\n",
    "            self._data=np.vstack(all_data)\n",
    "            self._data=self._data/127.5-1\n",
    "            self._labels=np.hstack(all_labels)\n",
    "            #debug\n",
    "            print(self._data.shape)\n",
    "            print(self._labels.shape)\n",
    "            self._num_examples=self._data.shape[0]\n",
    "            self._need_shuffle=need_shuffle\n",
    "            self._indicator=0\n",
    "            if self._need_shuffle:\n",
    "                self._shuffle_data()\n",
    "            \n",
    "    def _shuffle_data(self):\n",
    "        #[0,1,2,3,4,5]->[5,3,2,4,0,1]\n",
    "        p=np.random.permutation(self._num_examples)\n",
    "        self._data=self._data[p]\n",
    "        self._labels=self._labels[p]\n",
    "        \n",
    "    def next_batch(self,batch_size):\n",
    "        \"\"\"return batch_size examples as a batch.\"\"\"\n",
    "        end_indicator=self._indicator+batch_size\n",
    "        if(end_indicator>self._num_examples):\n",
    "            if(self._need_shuffle):\n",
    "                self._shuffle_data()\n",
    "                self._indicator=0\n",
    "                end_indicator=batch_size\n",
    "            else:\n",
    "                raise Exception(\"have no more example\")\n",
    "        if(end_indicator>self._num_examples):\n",
    "            raise Exception(\"batch size is large than all example\")\n",
    "        batch_data=self._data[self._indicator:end_indicator]\n",
    "        batch_labels=self._labels[self._indicator:end_indicator]\n",
    "        self._indicator=end_indicator\n",
    "        return batch_data,batch_labels\n",
    "train_filenames=[os.path.join(dir,'data_batch_%d' % i)for i in range(1,6)]\n",
    "test_filenames=[os.path.join(dir,'test_batch')]\n",
    "train_data=CifarData(train_filenames,True)\n",
    "test_data=CifarData(test_filenames,False)\n",
    "#batch_data,batch_labels=train_data.next_batch(10)\n",
    "#print(batch_data)\n",
    "#print(batch_labels)"
   ]
  },
  {
   "cell_type": "code",
   "execution_count": 48,
   "metadata": {},
   "outputs": [],
   "source": [
    "tf.reset_default_graph()\n",
    "x=tf.placeholder(tf.float32,[None,3072])\n",
    "#None\n",
    "y=tf.placeholder(tf.int64,[None])\n",
    "#(3072,1)\n",
    "w=tf.get_variable('w',[x.get_shape()[-1],1],initializer=tf.random_normal_initializer(0,1))\n",
    "#(1,)\n",
    "b=tf.get_variable('b',\n",
    "                  [1],\n",
    "                  initializer=tf.random_normal_initializer(0.0)\n",
    "                 )\n",
    "#[None,3072]*[3072,1]=[None,1]\n",
    "y_=tf.matmul(x,w)+b\n",
    "#[None,1]\n",
    "p_y_1=tf.nn.sigmoid(y_)\n",
    "#[None,1]\n",
    "y_reshaped=tf.reshape(y,(-1,1))\n",
    "y_reshaped_float=tf.cast(y_reshaped,tf.float32)\n",
    "loss=tf.reduce_mean(tf.square(y_reshaped_float-p_y_1))\n",
    "predict=p_y_1>0.5\n",
    "#[1,0,1,0,0,1]\n",
    "correct_prediction=tf.equal(tf.cast(predict,tf.int64),y_reshaped)\n",
    "accuracy=tf.reduce_mean(tf.cast(correct_prediction,tf.float64))\n",
    "with tf.name_scope('train_op'):\n",
    "    train_op=tf.train.AdamOptimizer(1e-3).minimize(loss)"
   ]
  },
  {
   "cell_type": "code",
   "execution_count": 53,
   "metadata": {},
   "outputs": [
    {
     "name": "stdout",
     "output_type": "stream",
     "text": [
      "[Train]Step:0,loss:0.48084,acc:0.50000\n",
      "[Train]Step:500,loss:0.49131,acc:0.50000\n",
      "[Train]Step:1000,loss:0.19501,acc:0.80000\n",
      "[Train]Step:1500,loss:0.24792,acc:0.75000\n",
      "[Train]Step:2000,loss:0.19807,acc:0.80000\n",
      "[Train]Step:2500,loss:0.05002,acc:0.95000\n",
      "[Train]Step:3000,loss:0.19771,acc:0.80000\n",
      "[Train]Step:3500,loss:0.25200,acc:0.75000\n",
      "[Train]Step:4000,loss:0.15729,acc:0.85000\n",
      "[Train]Step:4500,loss:0.24999,acc:0.75000\n",
      "[Train]Step:5000,loss:0.19974,acc:0.80000\n",
      "[Train]Step:5500,loss:0.14988,acc:0.85000\n",
      "[Train]Step:6000,loss:0.12546,acc:0.85000\n",
      "[Train]Step:6500,loss:0.11588,acc:0.85000\n",
      "[Train]Step:7000,loss:0.10002,acc:0.90000\n",
      "[Train]Step:7500,loss:0.10000,acc:0.90000\n",
      "[Train]Step:8000,loss:0.18202,acc:0.80000\n",
      "[Train]Step:8500,loss:0.09873,acc:0.90000\n",
      "[Train]Step:9000,loss:0.10000,acc:0.90000\n",
      "[Train]Step:9500,loss:0.29478,acc:0.70000\n"
     ]
    }
   ],
   "source": [
    "init=tf.compat.v1.global_variables_initializer()\n",
    "batch_size=20\n",
    "train_steps=10000\n",
    "\n",
    "'''\n",
    "g = tf.Graph()\n",
    "with g.as_default():\n",
    "    hello = tf.constant('hello')\n",
    "    sess = tf.compat.v1.Session(graph=g)\n",
    "'''\n",
    "with tf.compat.v1.Session() as sess:\n",
    "    a=sess.run(init)\n",
    "    for i in range(train_steps):\n",
    "        batch_data,batch_labels=train_data.next_batch(batch_size)\n",
    "        loss_val,acc_val,_=sess.run(\n",
    "            [loss,accuracy,train_op],\n",
    "            feed_dict={\n",
    "                x:batch_data,y:batch_labels\n",
    "            })\n",
    "        if (i%500==0):\n",
    "            print('[Train]Step:%d,loss:%4.5f,acc:%4.5f'\\\n",
    "                  %(i,loss_val,acc_val))\n",
    "        if (i%5000==0):\n",
    "            test_batch_data,test_batch_labels=test_data.next_batch(batch_size)\n",
    "            test_acc_val=sess.run([accuracy],feed_dict={x:test_batch_data,y:test_batch_labels})"
   ]
  },
  {
   "cell_type": "code",
   "execution_count": null,
   "metadata": {},
   "outputs": [],
   "source": []
  }
 ],
 "metadata": {
  "kernelspec": {
   "display_name": "Python 3",
   "language": "python",
   "name": "python3"
  },
  "language_info": {
   "codemirror_mode": {
    "name": "ipython",
    "version": 3
   },
   "file_extension": ".py",
   "mimetype": "text/x-python",
   "name": "python",
   "nbconvert_exporter": "python",
   "pygments_lexer": "ipython3",
   "version": "3.8.0"
  }
 },
 "nbformat": 4,
 "nbformat_minor": 4
}
