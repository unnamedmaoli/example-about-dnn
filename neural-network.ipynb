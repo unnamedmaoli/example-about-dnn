{
 "cells": [
  {
   "cell_type": "code",
   "execution_count": 2,
   "metadata": {},
   "outputs": [
    {
     "name": "stdout",
     "output_type": "stream",
     "text": [
      "WARNING:tensorflow:From c:\\python38\\lib\\site-packages\\tensorflow\\python\\compat\\v2_compat.py:96: disable_resource_variables (from tensorflow.python.ops.variable_scope) is deprecated and will be removed in a future version.\n",
      "Instructions for updating:\n",
      "non-resource variables are not supported in the long term\n",
      "['batches.meta', 'data_batch_1', 'data_batch_2', 'data_batch_3', 'data_batch_4', 'data_batch_5', 'readme.html', 'test_batch']\n"
     ]
    }
   ],
   "source": [
    "import tensorflow as tf\n",
    "#import tensorflow.compat.v1 as tf\n",
    "import os\n",
    "import _pickle as cPickle\n",
    "import numpy as np\n",
    "#tf.compat.v1.disable_eager_execution()\n",
    "import tensorflow.compat.v1 as tf \n",
    "tf.disable_v2_behavior() \n",
    "dir=\"./cifar-10-batches-py/\"\n",
    "print (os.listdir(dir))"
   ]
  },
  {
   "cell_type": "code",
   "execution_count": 3,
   "metadata": {},
   "outputs": [
    {
     "name": "stdout",
     "output_type": "stream",
     "text": [
      "(10000, 3072)\n",
      "(10000,)\n",
      "(20000, 3072)\n",
      "(20000,)\n",
      "(30000, 3072)\n",
      "(30000,)\n",
      "(40000, 3072)\n",
      "(40000,)\n",
      "(50000, 3072)\n",
      "(50000,)\n",
      "(10000, 3072)\n",
      "(10000,)\n"
     ]
    }
   ],
   "source": [
    "def load_data(filename):\n",
    "    '''read data from datafile'''\n",
    "    with open(filename,'rb') as f:\n",
    "        data=cPickle.load(f,encoding='bytes')\n",
    "        return data[b'data'],data[b'labels']\n",
    "class CifarData:\n",
    "    def __init__(self,filenames,need_shuffle):\n",
    "        all_data=[]\n",
    "        all_labels=[]\n",
    "        for filename in filenames:\n",
    "            data,labels=load_data(filename)\n",
    "            all_data.append(data)\n",
    "            all_labels.append(labels)\n",
    "            \n",
    "            self._data=np.vstack(all_data)\n",
    "            self._data=self._data/127.5-1\n",
    "            self._labels=np.hstack(all_labels)\n",
    "            #debug\n",
    "            print(self._data.shape)\n",
    "            print(self._labels.shape)\n",
    "            self._num_examples=self._data.shape[0]\n",
    "            self._need_shuffle=need_shuffle\n",
    "            self._indicator=0\n",
    "            if self._need_shuffle:\n",
    "                self._shuffle_data()\n",
    "            \n",
    "    def _shuffle_data(self):\n",
    "        #[0,1,2,3,4,5]->[5,3,2,4,0,1]\n",
    "        p=np.random.permutation(self._num_examples)\n",
    "        self._data=self._data[p]\n",
    "        self._labels=self._labels[p]\n",
    "        \n",
    "    def next_batch(self,batch_size):\n",
    "        \"\"\"return batch_size examples as a batch.\"\"\"\n",
    "        end_indicator=self._indicator+batch_size\n",
    "        if(end_indicator>self._num_examples):\n",
    "            if(self._need_shuffle):\n",
    "                self._shuffle_data()\n",
    "                self._indicator=0\n",
    "                end_indicator=batch_size\n",
    "            else:\n",
    "                raise Exception(\"have no more example\")\n",
    "        if(end_indicator>self._num_examples):\n",
    "            raise Exception(\"batch size is large than all example\")\n",
    "        batch_data=self._data[self._indicator:end_indicator]\n",
    "        batch_labels=self._labels[self._indicator:end_indicator]\n",
    "        self._indicator=end_indicator\n",
    "        return batch_data,batch_labels\n",
    "train_filenames=[os.path.join(dir,'data_batch_%d' % i)for i in range(1,6)]\n",
    "test_filenames=[os.path.join(dir,'test_batch')]\n",
    "train_data=CifarData(train_filenames,True)\n",
    "test_data=CifarData(test_filenames,False)\n",
    "#batch_data,batch_labels=train_data.next_batch(10)\n",
    "#print(batch_data)\n",
    "#print(batch_labels)"
   ]
  },
  {
   "cell_type": "code",
   "execution_count": 8,
   "metadata": {},
   "outputs": [],
   "source": [
    "tf.reset_default_graph()\n",
    "x=tf.placeholder(tf.float32,[None,3072])\n",
    "#None,eg:[0,5,6,3]\n",
    "y=tf.placeholder(tf.int64,[None])\n",
    "\n",
    "hidden1=tf.layers.dense(x,100,activation=tf.nn.relu)\n",
    "hidden2=tf.layers.dense(hidden1,100,activation=tf.nn.relu)\n",
    "hidden3=tf.layers.dense(hidden2,50,activation=tf.nn.relu)\n",
    "y_=tf.layers.dense(hidden3,10)\n",
    "\n",
    "#mean square loss\n",
    "'''\n",
    "#course:1+e^x\n",
    "#api:e^x/sum(e^x)\n",
    "#[[0.01,0,02,0,8...,0.03],[]]\n",
    "p_y=tf.nn.softmax(y_)\n",
    "#5->[0,0,0,0,0,1,0,0,0,0]\n",
    "y_one_hot=tf.one_hot(y,10,dtype=tf.float32)\n",
    "loss=tf.reduce_mean(tf.square(y_one_hot-p_y))\n",
    "'''\n",
    "\n",
    "loss=tf.losses.sparse_softmax_cross_entropy(labels=y,logits=y_)\n",
    "#y_ -> sofmax\n",
    "#y -> onehot\n",
    "#loss = ylogy_ `\n",
    "\n",
    "#index\n",
    "predict=tf.argmax(y_,1)\n",
    "#[1,0,1,0,0,1]\n",
    "correct_prediction=tf.equal(predict,y)\n",
    "accuracy=tf.reduce_mean(tf.cast(correct_prediction,tf.float64))\n",
    "with tf.name_scope('train_op'):\n",
    "    train_op=tf.train.AdamOptimizer(1e-3).minimize(loss)"
   ]
  },
  {
   "cell_type": "code",
   "execution_count": 9,
   "metadata": {},
   "outputs": [
    {
     "name": "stdout",
     "output_type": "stream",
     "text": [
      "[Train]Step:0,loss:2.30134,acc:0.05000\n",
      "[Train]Step:500,loss:1.90306,acc:0.35000\n",
      "[Train]Step:1000,loss:1.59015,acc:0.30000\n",
      "[Train]Step:1500,loss:1.62176,acc:0.45000\n",
      "[Train]Step:2000,loss:1.78897,acc:0.50000\n",
      "[Train]Step:2500,loss:1.64806,acc:0.45000\n",
      "[Train]Step:3000,loss:1.63098,acc:0.35000\n",
      "[Train]Step:3500,loss:1.76306,acc:0.30000\n",
      "[Train]Step:4000,loss:1.86501,acc:0.35000\n",
      "[Train]Step:4500,loss:1.41276,acc:0.50000\n",
      "[Train]Step:5000,loss:1.22714,acc:0.55000\n",
      "[Train]Step:5500,loss:0.84604,acc:0.65000\n",
      "[Train]Step:6000,loss:1.29641,acc:0.55000\n",
      "[Train]Step:6500,loss:1.35874,acc:0.65000\n",
      "[Train]Step:7000,loss:1.77625,acc:0.45000\n",
      "[Train]Step:7500,loss:1.49431,acc:0.50000\n",
      "[Train]Step:8000,loss:1.31618,acc:0.55000\n",
      "[Train]Step:8500,loss:1.27494,acc:0.45000\n",
      "[Train]Step:9000,loss:1.08173,acc:0.65000\n",
      "[Train]Step:9500,loss:1.39515,acc:0.50000\n"
     ]
    }
   ],
   "source": [
    "init=tf.compat.v1.global_variables_initializer()\n",
    "batch_size=20\n",
    "train_steps=10000\n",
    "\n",
    "'''\n",
    "g = tf.Graph()\n",
    "with g.as_default():\n",
    "    hello = tf.constant('hello')\n",
    "    sess = tf.compat.v1.Session(graph=g)\n",
    "'''\n",
    "with tf.compat.v1.Session() as sess:\n",
    "    a=sess.run(init)\n",
    "    for i in range(train_steps):\n",
    "        batch_data,batch_labels=train_data.next_batch(batch_size)\n",
    "        loss_val,acc_val,_=sess.run(\n",
    "            [loss,accuracy,train_op],\n",
    "            feed_dict={\n",
    "                x:batch_data,y:batch_labels\n",
    "            })\n",
    "        if (i%500==0):\n",
    "            print('[Train]Step:%d,loss:%4.5f,acc:%4.5f'\\\n",
    "                  %(i,loss_val,acc_val))\n",
    "        if (i%5000==0):\n",
    "            test_batch_data,test_batch_labels=test_data.next_batch(batch_size)\n",
    "            test_acc_val=sess.run([accuracy],feed_dict={x:test_batch_data,y:test_batch_labels})"
   ]
  },
  {
   "cell_type": "code",
   "execution_count": null,
   "metadata": {},
   "outputs": [],
   "source": []
  }
 ],
 "metadata": {
  "kernelspec": {
   "display_name": "Python 3",
   "language": "python",
   "name": "python3"
  },
  "language_info": {
   "codemirror_mode": {
    "name": "ipython",
    "version": 3
   },
   "file_extension": ".py",
   "mimetype": "text/x-python",
   "name": "python",
   "nbconvert_exporter": "python",
   "pygments_lexer": "ipython3",
   "version": "3.8.0"
  }
 },
 "nbformat": 4,
 "nbformat_minor": 4
}
